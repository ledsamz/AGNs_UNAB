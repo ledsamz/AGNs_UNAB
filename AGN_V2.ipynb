{
 "cells": [
  {
   "cell_type": "markdown",
   "metadata": {},
   "source": [
    "# AGNs recién nacidos\n",
    "Este código simula la respuesta de la NLR *(la variación de su intensidad en función del tiempo)*, ante la activación de su agujero negro central. \n",
    "\n",
    "Se utiliza un modelo geométrico que **asume**:\n",
    "* Disco de acreción pequeño comparado con la NRL.\n",
    "* NLR circular.\n",
    "\n",
    "Su ejecución depende de *parámetros del sistema* y del *parámetro del algoritmo*.\n",
    "\n",
    "##### Parámetros del sistema\n",
    "* $r$ - Radio de la NLR.\n",
    "* $r_{0}$ - Distancia entre el observador y la NLR.\n",
    "* $N$ - Número de fotones emitidos por impulso unitario *(por función delta)*.\n",
    "* $op$ - Tipo de emisión de los fotones, o isotrópica o aleatoria.\n",
    "* $Deltas$ - Forma de la activación del agujero negro *(entrada)*.\n",
    "\n",
    "##### Parámetro del algoritmo\n",
    "* $num$ - Resolución con la que se muestrea el intervalo de tiempo de la respuesta.\n",
    "\n",
    "### Descripción de la simulación\n",
    "\n",
    "Del modelo geométrico se obtiene que el tiempo de llegada del primer fotón es: \n",
    "\n",
    "## $t_{0}=\\frac{r + r_{0}}{c}$\n",
    " \n",
    "El desfase de tiempo entre la llegada de un fotón emitido a $\\theta=180^o$ *(primer fotón que llega)* y un fotón emitido a $\\theta$ está dado por: \n",
    "\n",
    "## $\\tau = \\frac{r}{c} (1+\\cos \\theta)$\n",
    "\n",
    "Ante la entrada de un impulso unitario, es decir, la emisión isotrópica o aleatora de los $N$ fotones, la diferencia para el observador entre el tiempo de llegada del primer y último fotón es:\n",
    "\n",
    "## $\\tau_{max}=\\frac{2r}{c}$\n",
    "\n",
    "Para realizar la simulación, el algoritmo divide el intervalo $\\tau_{max}$ en $num$ partes iguales:\n",
    "\n",
    "## $\\tau_{n}=\\frac{\\tau_{max}}{num}$\n",
    "\n",
    "El tiempo final de cada uno de los intervalos puede expresarse como:\n",
    "\n",
    "## $\\tau_{n}(i)=i\\tau_{n}$ \n",
    "\n",
    "con $i=1,2,...,num$\n",
    "\n",
    "Si la emisión es isotrópica, el ángulo entre fotones adyacentes es de:\n",
    "\n",
    "## $\\theta_{step}=\\frac{360}{N}$\n",
    "\n",
    "Para calcular la respuesta de la NLR el algoritmo determina cuantos fotones llegan en cada uno de los $\\tau_{n}(i)$ intervalos de tiempo evaluando la función $\\tau$ de la siguiente manera: \n",
    "\n",
    "## $Boolean(\\theta, i) =\n",
    "\\left\\{\n",
    "    \\begin{array}{lll}\n",
    "        1  & \\mbox{if } \\tau_{n}(i-1) \\leq \\tau(\\theta) < \\tau_{n}(i)  \\\\\n",
    "        0 & \\mbox{if } \\tau(\\theta) < \\tau_{n}(i-1) \\\\\n",
    "        0 & \\mbox{if } \\tau(\\theta) > \\tau_{n}(i)\n",
    "    \\end{array}\n",
    "\\right.$\n",
    "\n",
    "\n",
    "Es decir, el algoritmo itera cada uno de los $N$ fotones emitidos *(iterando $\\theta$)* para determinar en qué intervalo de tiempo $\\tau_{n}(i)$ debe ser incluido cada uno *(iterando $i$)*. Con esto se obtiene la respuesta de la NLR para una entrada impulso unitario.\n",
    "\n",
    " Posteriormente se realiza una convolución para determinar la respuesta a una entrada mas compleja.\n",
    "\n",
    "La entrada de interés se programa a través del vector $Deltas$.\n",
    "\n",
    "$Deltas=[1]$ es equivalente a una entrada impulso unitario, es decir, la emisión de $N$ fotones al mismo tiempo.\n",
    "\n",
    "$Deltas=[2]$ como entrada, es equivalente la emisión de $2N$ fotones al mismo tiempo.\n",
    "\n",
    "$Deltas=[1, 2]$ como entrada, es equivalente la emisión de $N$ fotones, seguido de una segunda emisión de $2N$ fotones.\n",
    "\n",
    "$Deltas=[1, 3, 2]$ como entrada, es equivalente la emisión de $N$ fotones, seguido de una segunda emisión de $3N$ fotones, seguido de una tercera emisión de $2N$ fotones.\n",
    "\n",
    "### Para simular: \n",
    "#### Modificar en las celdas respectivas los parámetros del sistema y el parámetro del algoritmo a su gusto, y correrlo con 'Run All'!"
   ]
  },
  {
   "cell_type": "markdown",
   "metadata": {},
   "source": [
    "#### Parámetros del sistema:"
   ]
  },
  {
   "cell_type": "code",
   "execution_count": 1,
   "metadata": {},
   "outputs": [],
   "source": [
    "#MODIFICAR ---------------------------------------------\n",
    "r=300 #Radio de la NLR [km]\n",
    "r0=1500 #Distancia entre el observador y la NLR [km]\n",
    "N=70000 #Número de rayos/fotones lanzados por Delta \n",
    "op=1 #op=1 para rayos/fotones isotrópicos,op=0 para aleatorios\n",
    "Deltas=[1, 5, 6, 7, 6, 5, 3, 2, 2, 1, 1, 1] #Entrada\n",
    "#-------------------------------------------------------"
   ]
  },
  {
   "cell_type": "markdown",
   "metadata": {},
   "source": [
    "#### Parámetro del algoritmo:"
   ]
  },
  {
   "cell_type": "code",
   "execution_count": 2,
   "metadata": {},
   "outputs": [],
   "source": [
    "#MODIFICAR ---------------------------------------------\n",
    "num=50 #Resolución muestreado Tiempo\n",
    "#-------------------------------------------------------"
   ]
  },
  {
   "cell_type": "markdown",
   "metadata": {},
   "source": [
    "#### Código:"
   ]
  },
  {
   "cell_type": "code",
   "execution_count": 3,
   "metadata": {},
   "outputs": [],
   "source": [
    "from __future__ import division\n",
    "import math\n",
    "import numpy as np\n",
    "import matplotlib.pyplot as plt\n",
    "import random\n",
    "from scipy import signal"
   ]
  },
  {
   "cell_type": "code",
   "execution_count": 4,
   "metadata": {},
   "outputs": [],
   "source": [
    "c=300 #Velocidad de la luz [km/s]\n",
    "Teta=360/N #Paso ángulo\n",
    "tn=(2*r/c)/num #Paso tiempo"
   ]
  },
  {
   "cell_type": "code",
   "execution_count": 5,
   "metadata": {},
   "outputs": [],
   "source": [
    "x1 = np.zeros(num) #Guardará la respuesta unitaria\n",
    "x = np.zeros((np.size(Deltas),num+np.size(Deltas)-1)) #Guardará la respuesta de interés\n",
    "#print('x1 =',x1)\n",
    "#print('x =',x)"
   ]
  },
  {
   "cell_type": "code",
   "execution_count": 6,
   "metadata": {
    "scrolled": true
   },
   "outputs": [],
   "source": [
    "for k2 in range(N): #Iteración Número Fotones\n",
    "\n",
    "    j=k2+1\n",
    "\n",
    "    if op==1: #Emisión isotrópica\n",
    "        tetag=Teta*(j)\n",
    "    elif op==0: #Emisión aleatoria\n",
    "        rd=random.randrange(1,N+1,1)\n",
    "        tetag=Teta*(rd)\n",
    "\n",
    "    tetar=math.radians(tetag)\n",
    "\n",
    "    for k1 in range(num): #Iteración Intervalo Tiempo\n",
    "\n",
    "        i=k1+1\n",
    "        Tau=r/c*(1+math.cos(tetar)) #Desfase del fotón\n",
    "\n",
    "        #Construcción de la respuesta unitaria\n",
    "        if Tau >= (tn*(i-1)) and Tau < (tn*i):\n",
    "            x1[k1] = x1[k1] + 1 \n",
    "\n",
    "        if Tau < (tn*(i-1)) or Tau > (tn*i):\n",
    "            x1[k1] = x1[k1] + 0\n",
    "    #print('x1 =',x1)\n",
    "\n",
    "#np.sum(x1)\n",
    "#print(\" \")\n",
    "#print('x1 =',x1)"
   ]
  },
  {
   "cell_type": "code",
   "execution_count": 7,
   "metadata": {},
   "outputs": [],
   "source": [
    "for k3 in range(np.size(Deltas)):#Iteración Número Deltas (Convolución)\n",
    "    \n",
    "    #Construcción respuesta de interés        \n",
    "    x[k3,k3:num+k3]=Deltas[k3]*x1\n",
    "    #x[k3]=np.roll(x[k3], k3)\n",
    "\n",
    "#print('x =',x)"
   ]
  },
  {
   "cell_type": "code",
   "execution_count": 8,
   "metadata": {},
   "outputs": [],
   "source": [
    "xs=np.sum(x,axis=0) #Respuesta de interés\n",
    "#print('xs =',xs)"
   ]
  },
  {
   "cell_type": "markdown",
   "metadata": {},
   "source": [
    "## Entrada y Respuesta unitaria:"
   ]
  },
  {
   "cell_type": "code",
   "execution_count": 9,
   "metadata": {},
   "outputs": [
    {
     "data": {
      "image/png": "[encoded data removed]",
      "text/plain": [
       "<Figure size 432x288 with 1 Axes>"
      ]
     },
     "metadata": {
      "needs_background": "light"
     },
     "output_type": "display_data"
    },
    {
     "data": {
      "image/png": "[encoded data removed]",
      "text/plain": [
       "<Figure size 432x288 with 1 Axes>"
      ]
     },
     "metadata": {
      "needs_background": "light"
     },
     "output_type": "display_data"
    },
    {
     "data": {
      "image/png": "[encoded data removed]",
      "text/plain": [
       "<Figure size 432x288 with 1 Axes>"
      ]
     },
     "metadata": {
      "needs_background": "light"
     },
     "output_type": "display_data"
    }
   ],
   "source": [
    "impb = signal.unit_impulse(100, 'mid')\n",
    "plt.figure()\n",
    "plt.plot(np.linspace(-1,1,100), impb)\n",
    "plt.xlabel(\"Time [s]\") \n",
    "plt.ylabel(\"Amplitude\") \n",
    "plt.title(\"Input\") \n",
    "\n",
    "plt.figure() \n",
    "axisxb = np.linspace((r0+r)/c,(r0+r)/c+(2*r/c),num) \n",
    "#plt.subplot(121)\n",
    "plt.plot(axisxb,x1,\"ob-\")\n",
    "#plt.xlim([0,r0/c+(2*r/c)])\n",
    "plt.xlabel(\"Arrival Time [s]\") \n",
    "plt.ylabel(\"Number of photons\") \n",
    "plt.title(\"Output (Scatter plot)\") \n",
    "\n",
    "plt.figure()\n",
    "#plt.subplot(122)\n",
    "axisxb2 = np.linspace(1,num,num) \n",
    "plt.bar(axisxb2,x1)\n",
    "plt.xlabel(\"Time interval\") \n",
    "plt.ylabel(\"Number of photons\") \n",
    "plt.title(\"Output (Bar plot)\") \n",
    "plt.show()"
   ]
  },
  {
   "cell_type": "markdown",
   "metadata": {},
   "source": [
    "## Entrada y Respuesta de interés:"
   ]
  },
  {
   "cell_type": "code",
   "execution_count": 10,
   "metadata": {},
   "outputs": [
    {
     "data": {
      "image/png": "[encoded data removed]",
      "text/plain": [
       "<Figure size 432x288 with 1 Axes>"
      ]
     },
     "metadata": {
      "needs_background": "light"
     },
     "output_type": "display_data"
    },
    {
     "data": {
      "image/png": "[encoded data removed]",
      "text/plain": [
       "<Figure size 432x288 with 1 Axes>"
      ]
     },
     "metadata": {
      "needs_background": "light"
     },
     "output_type": "display_data"
    },
    {
     "data": {
      "image/png": "[encoded data removed]",
      "text/plain": [
       "<Figure size 432x288 with 1 Axes>"
      ]
     },
     "metadata": {
      "needs_background": "light"
     },
     "output_type": "display_data"
    },
    {
     "data": {
      "image/png": "[encoded data removed]",
      "text/plain": [
       "<Figure size 432x288 with 1 Axes>"
      ]
     },
     "metadata": {
      "needs_background": "light"
     },
     "output_type": "display_data"
    }
   ],
   "source": [
    "plt.figure() \n",
    "plt.subplot(211)\n",
    "xDeltas = np.linspace(0, np.size(Deltas)*tn, np.size(Deltas)) \n",
    "plt.stem(xDeltas, Deltas, use_line_collection = True) \n",
    "plt.xlabel(\"Time [s]\") \n",
    "plt.ylabel(\"Number of Deltas\") \n",
    "plt.title(\"Input\") \n",
    "plt.show() \n",
    "\n",
    "plt.subplot(212)\n",
    "plt.stem(np.linspace(1, np.size(Deltas), np.size(Deltas)) , Deltas, use_line_collection = True) \n",
    "plt.xlabel(\"Time Interval\") \n",
    "plt.ylabel(\"Number of Deltas\") \n",
    "plt.show() \n",
    "\n",
    "plt.figure() \n",
    "axisx = np.linspace((r0+r)/c,(r0+r)/c+(2*r/c)+tn*(np.size(Deltas)-1),num+np.size(Deltas)-1) \n",
    "#plt.subplot(121)\n",
    "plt.plot(axisx,xs,\"ob-\")\n",
    "#plt.xlim([r0/c,r0/c+(2*r/c)+tn*(np.size(Deltas)-1)])\n",
    "plt.xlabel(\"Arrival Time [s]\") \n",
    "plt.ylabel(\"Number of photons\") \n",
    "plt.title(\"Output (Scatter plot)\") \n",
    "\n",
    "plt.figure() \n",
    "#plt.subplot(122)\n",
    "axisx2 = np.linspace(1,num+np.size(Deltas)-1,num+np.size(Deltas)-1) \n",
    "plt.bar(axisx2,xs)\n",
    "plt.xlabel(\"Time interval\") \n",
    "plt.ylabel(\"Number of photons\") \n",
    "plt.title(\"Output (Bar plot)\") \n",
    "plt.show()"
   ]
  },
  {
   "cell_type": "code",
   "execution_count": 11,
   "metadata": {},
   "outputs": [],
   "source": [
    "#np.insert(x,0,[0, 0, 0])#Agregar al inicio\n",
    "#np.append(x,[0, 0, 0])#Agregar al final"
   ]
  },
  {
   "cell_type": "code",
   "execution_count": 12,
   "metadata": {},
   "outputs": [],
   "source": [
    "#%load_ext watermark\n",
    "\n",
    "# python, ipython, packages, and machine characteristics\n",
    "#%watermark -v -m -p numpy,matplotlib.pyplot,scipy,watermark \n",
    "\n",
    "# date\n",
    "#print (\" \")\n",
    "#%watermark -u -n -t -z"
   ]
  }
 ],
 "metadata": {
  "kernelspec": {
   "display_name": "Python 3",
   "language": "python",
   "name": "python3"
  },
  "language_info": {
   "codemirror_mode": {
    "name": "ipython",
    "version": 3
   },
   "file_extension": ".py",
   "mimetype": "text/x-python",
   "name": "python",
   "nbconvert_exporter": "python",
   "pygments_lexer": "ipython3",
   "version": "3.8.3"
  }
 },
 "nbformat": 4,
 "nbformat_minor": 4
}
